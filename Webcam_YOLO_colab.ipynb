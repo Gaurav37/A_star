{
  "nbformat": 4,
  "nbformat_minor": 0,
  "metadata": {
    "colab": {
      "name": "Untitled10.ipynb",
      "provenance": [],
      "toc_visible": true,
      "include_colab_link": true
    },
    "kernelspec": {
      "name": "python3",
      "display_name": "Python 3"
    }
  },
  "cells": [
    {
      "cell_type": "markdown",
      "metadata": {
        "id": "view-in-github",
        "colab_type": "text"
      },
      "source": [
        "<a href=\"https://colab.research.google.com/github/Gaurav37/A_star/blob/master/Webcam_YOLO_colab.ipynb\" target=\"_parent\"><img src=\"https://colab.research.google.com/assets/colab-badge.svg\" alt=\"Open In Colab\"/></a>"
      ]
    },
    {
      "cell_type": "code",
      "metadata": {
        "id": "YLbJEtk6xBGG",
        "outputId": "3d84677c-7e19-442e-d25e-1129c668dfac",
        "colab": {
          "base_uri": "https://localhost:8080/"
        }
      },
      "source": [
        "!git clone https://github.com/opencv/opencv.git"
      ],
      "execution_count": null,
      "outputs": [
        {
          "output_type": "stream",
          "text": [
            "Cloning into 'opencv'...\n",
            "remote: Enumerating objects: 23, done.\u001b[K\n",
            "remote: Counting objects: 100% (23/23), done.\u001b[K\n",
            "remote: Compressing objects: 100% (22/22), done.\u001b[K\n",
            "remote: Total 281418 (delta 0), reused 6 (delta 0), pack-reused 281395\u001b[K\n",
            "Receiving objects: 100% (281418/281418), 473.55 MiB | 26.27 MiB/s, done.\n",
            "Resolving deltas: 100% (196561/196561), done.\n",
            "Checking out files: 100% (6654/6654), done.\n"
          ],
          "name": "stdout"
        }
      ]
    },
    {
      "cell_type": "code",
      "metadata": {
        "id": "9Ga34tU5vn4Y"
      },
      "source": [
        "!mkdir Video"
      ],
      "execution_count": null,
      "outputs": []
    },
    {
      "cell_type": "code",
      "metadata": {
        "id": "ss1B1OymvmL9",
        "outputId": "25aae485-f3a5-47cc-8687-472f0d93f3b5",
        "colab": {
          "base_uri": "https://localhost:8080/",
          "height": 600
        }
      },
      "source": [
        "!pip install ffmpeg-python\n",
        "\n",
        "\n",
        "from IPython.display import HTML, Javascript, display\n",
        "from google.colab.output import eval_js\n",
        "from base64 import b64decode\n",
        "import numpy as np\n",
        "import io\n",
        "import ffmpeg\n",
        "\n",
        "video_file_test = '/content/Video/osy_test.mp4' \n",
        "  \n",
        "\n",
        "VIDEO_HTML = \"\"\"\n",
        "<script>\n",
        "var my_div = document.createElement(\"DIV\");\n",
        "var my_p = document.createElement(\"P\");\n",
        "var my_btn = document.createElement(\"BUTTON\");\n",
        "var my_btn_txt = document.createTextNode(\"Press to start recording\");\n",
        "\n",
        "my_btn.appendChild(my_btn_txt);\n",
        "my_div.appendChild(my_btn);\n",
        "document.body.appendChild(my_div);\n",
        "\n",
        "var base64data = 0;\n",
        "var reader;\n",
        "var recorder, videoStream;\n",
        "var recordButton = my_btn;\n",
        "\n",
        "var handleSuccess = function(stream) {\n",
        "  videoStream = stream;\n",
        "  var options = {  \n",
        "    mimeType : 'video/webm;codecs=vp9'  \n",
        "  };            \n",
        "  recorder = new MediaRecorder(stream, options);\n",
        "  recorder.ondataavailable = function(e) {            \n",
        "    var url = URL.createObjectURL(e.data);\n",
        "    var preview = document.createElement('video');\n",
        "    preview.controls = true;\n",
        "    preview.src = url;\n",
        "    document.body.appendChild(preview);\n",
        "\n",
        "    reader = new FileReader();\n",
        "    reader.readAsDataURL(e.data); \n",
        "    reader.onloadend = function() {\n",
        "      base64data = reader.result;\n",
        "    }\n",
        "  };\n",
        "  recorder.start();\n",
        "  };\n",
        "\n",
        "recordButton.innerText = \"Recording... press to stop\";\n",
        "\n",
        "navigator.mediaDevices.getUserMedia({video: true}).then(handleSuccess);\n",
        "\n",
        "\n",
        "function toggleRecording() {\n",
        "  if (recorder && recorder.state == \"recording\") {\n",
        "      recorder.stop();\n",
        "      videoStream.getVideoTracks()[0].stop();\n",
        "      recordButton.innerText = \"Saving the recording... Please wait!\"\n",
        "  }\n",
        "}\n",
        "\n",
        "function sleep(ms) {\n",
        "  return new Promise(resolve => setTimeout(resolve, ms));\n",
        "}\n",
        "\n",
        "var data = new Promise(resolve=>{\n",
        "recordButton.onclick = ()=>{\n",
        "toggleRecording()\n",
        "\n",
        "sleep(2000).then(() => {\n",
        "  // wait 2000ms for the data to be available\n",
        "  resolve(base64data.toString())\n",
        "\n",
        "});\n",
        "\n",
        "}\n",
        "});\n",
        "      \n",
        "</script>\n",
        "\"\"\"\n",
        "\n",
        "def start_webcam():\n",
        "  js = Javascript('''\n",
        "    async function startWebcam() {\n",
        "      const div = document.createElement('div');\n",
        "\n",
        "      const video = document.createElement('video');\n",
        "      video.style.display = 'block';\n",
        "      const stream = await navigator.mediaDevices.getUserMedia({video: true});\n",
        "\n",
        "      document.body.appendChild(div);\n",
        "      div.appendChild(video);\n",
        "      video.srcObject = stream;\n",
        "      await video.play();\n",
        "\n",
        "      // Resize the output to fit the video element.\n",
        "      google.colab.output.setIframeHeight(document.documentElement.scrollHeight, true);\n",
        "      \n",
        "      return;\n",
        "\n",
        "    }\n",
        "    ''')\n",
        "  \n",
        "  display(js)\n",
        "  data = eval_js('startWebcam()')\n",
        "  \n",
        "    \n",
        "start_webcam()\n",
        "\n",
        "def get_video():\n",
        "  display(HTML(VIDEO_HTML))\n",
        "  data = eval_js(\"data\")\n",
        "  binary = b64decode(data.split(',')[1])\n",
        "  \n",
        "  return binary"
      ],
      "execution_count": null,
      "outputs": [
        {
          "output_type": "stream",
          "text": [
            "Collecting ffmpeg-python\n",
            "  Downloading https://files.pythonhosted.org/packages/d7/0c/56be52741f75bad4dc6555991fabd2e07b432d333da82c11ad701123888a/ffmpeg_python-0.2.0-py3-none-any.whl\n",
            "Requirement already satisfied: future in /usr/local/lib/python3.6/dist-packages (from ffmpeg-python) (0.16.0)\n",
            "Installing collected packages: ffmpeg-python\n",
            "Successfully installed ffmpeg-python-0.2.0\n"
          ],
          "name": "stdout"
        },
        {
          "output_type": "display_data",
          "data": {
            "application/javascript": [
              "\n",
              "    async function startWebcam() {\n",
              "      const div = document.createElement('div');\n",
              "\n",
              "      const video = document.createElement('video');\n",
              "      video.style.display = 'block';\n",
              "      const stream = await navigator.mediaDevices.getUserMedia({video: true});\n",
              "\n",
              "      document.body.appendChild(div);\n",
              "      div.appendChild(video);\n",
              "      video.srcObject = stream;\n",
              "      await video.play();\n",
              "\n",
              "      // Resize the output to fit the video element.\n",
              "      google.colab.output.setIframeHeight(document.documentElement.scrollHeight, true);\n",
              "      \n",
              "      return;\n",
              "\n",
              "    }\n",
              "    "
            ],
            "text/plain": [
              "<IPython.core.display.Javascript object>"
            ]
          },
          "metadata": {
            "tags": []
          }
        }
      ]
    },
    {
      "cell_type": "code",
      "metadata": {
        "id": "6Kn_TnbCw2MF",
        "outputId": "7a93178f-efc4-492d-c0b8-bc6036d3c506",
        "colab": {
          "base_uri": "https://localhost:8080/"
        }
      },
      "source": [
        "!wget https://github.com/pjreddie/darknet/blob/master/cfg/yolov2-tiny.cfg\n"
      ],
      "execution_count": null,
      "outputs": [
        {
          "output_type": "stream",
          "text": [
            "--2020-11-02 19:28:20--  https://github.com/pjreddie/darknet/blob/master/cfg/yolov2-tiny.cfg\n",
            "Resolving github.com (github.com)... 140.82.113.3\n",
            "Connecting to github.com (github.com)|140.82.113.3|:443... connected.\n",
            "HTTP request sent, awaiting response... 200 OK\n",
            "Length: unspecified [text/html]\n",
            "Saving to: ‘yolov2-tiny.cfg’\n",
            "\n",
            "yolov2-tiny.cfg         [ <=>                ] 114.23K  --.-KB/s    in 0.08s   \n",
            "\n",
            "2020-11-02 19:28:20 (1.38 MB/s) - ‘yolov2-tiny.cfg’ saved [116968]\n",
            "\n"
          ],
          "name": "stdout"
        }
      ]
    },
    {
      "cell_type": "code",
      "metadata": {
        "id": "a-yF6j48cXZP",
        "outputId": "7d3c650b-d6e7-4145-98f4-9d8ba74ea560",
        "colab": {
          "base_uri": "https://localhost:8080/"
        }
      },
      "source": [
        "!wget https://github.com/pjreddie/darknet/blob/master/data/coco.names"
      ],
      "execution_count": null,
      "outputs": [
        {
          "output_type": "stream",
          "text": [
            "--2020-11-02 19:32:06--  https://github.com/pjreddie/darknet/blob/master/data/coco.names\n",
            "Resolving github.com (github.com)... 140.82.113.4\n",
            "Connecting to github.com (github.com)|140.82.113.4|:443... connected.\n",
            "HTTP request sent, awaiting response... 200 OK\n",
            "Length: unspecified [text/html]\n",
            "Saving to: ‘coco.names’\n",
            "\n",
            "coco.names              [ <=>                ] 100.30K  --.-KB/s    in 0.08s   \n",
            "\n",
            "2020-11-02 19:32:06 (1.27 MB/s) - ‘coco.names’ saved [102710]\n",
            "\n"
          ],
          "name": "stdout"
        }
      ]
    },
    {
      "cell_type": "code",
      "metadata": {
        "id": "NUtuvqMZcwhQ"
      },
      "source": [
        "import cv2\n",
        "import numpy as np\n",
        "\n",
        "net =cv2.dnn.readNet('yolov2-tiny.weights', 'yolov2-tiny.cfg')\n",
        "classes=[]\n",
        "with open('coco.names','r') as f:\n",
        "  classes=f.read().splitlines()\n",
        "\n",
        "cap=cv2.VideoCapture()\n",
        "#img=cv2.imread('image.jpg')\n",
        "while True:\n",
        "  _, img =cap.read() \n",
        "  height,width, _=img.shape\n",
        "\n",
        "  blob=cv2.dnn.blobFromImage(img,1/255,(416,416),(0,0,0),swapRB=True, crop=False)\n",
        "\n",
        "  '''for b in blob:\n",
        "    for n, img_blob in enumerate(b):\n",
        "      cv2.imshow(str(n),img_blob)\n",
        "  '''\n",
        "\n",
        "  net.setInput(blob)\n",
        "  output_layers_names=net.getUnconnectedOutputLayersNames()\n",
        "  layerOutputs=net.forward(output_layers_names)\n",
        "\n",
        "  boxes=[]\n",
        "  confidences=[]\n",
        "  class_ids=[]\n",
        "\n",
        "  for output in layerOutputs:\n",
        "    for detection in output:\n",
        "      scores= detection[5:]\n",
        "      class_ids = np.argmax(scores)\n",
        "      confidence=scores[class_id]\n",
        "      if confidence>0.5:\n",
        "        center_x=int(detection[0]*width)\n",
        "        center_y= int(detection[1]*height)\n",
        "        w= int(detection[3]*width)\n",
        "        h= int(detection[3]*width)\n",
        "\n",
        "        x=int(center_x -w/2)\n",
        "        y = int(center_y -h/2)\n",
        "\n",
        "        boxes.append([x,y,w,h])\n",
        "        confidences.append((float(confidence)))\n",
        "        class_ids.append(class_id)\n",
        "\n",
        "  #print(len(boxes))\n",
        "  indexes= cv2.dnn.NMSBoxes(boxes, confidences, 0.5,0.4)\n",
        "  #print(indexes.flatten)\n",
        "  font=cv2.FONT_HERSHEY_PLAIN\n",
        "  colors=np.random.uniform(0,255,size=(len(boxes),3))\n",
        "\n",
        "  for i in indexes.flatten():\n",
        "    x,y,w,h=boxes[i]\n",
        "    label=str(classes[class_ids[i]])\n",
        "    confidence=str(round(confidences[i],2))\n",
        "    color=colors[i]\n",
        "    cv2.rectangle(img,(x,y),(x+w,y+h),color,2)\n",
        "    cv2.putText(img,label + \"\" + confidence, (x,y+20),font,2,(255,255,255),2)\n",
        "\n",
        "\n",
        "  cv2.imshow('Image',img)\n",
        "  key=cv2.waitKey(1)\n",
        "  if key==27:\n",
        "    break\n",
        "cap.release()\n",
        "cv2.destroyAllWindows()"
      ],
      "execution_count": null,
      "outputs": []
    },
    {
      "cell_type": "code",
      "metadata": {
        "id": "wUDW5J68gKFK"
      },
      "source": [
        ""
      ],
      "execution_count": null,
      "outputs": []
    }
  ]
}