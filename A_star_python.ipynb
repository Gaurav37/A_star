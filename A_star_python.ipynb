{
  "nbformat": 4,
  "nbformat_minor": 0,
  "metadata": {
    "colab": {
      "name": "A_star_python.ipynb",
      "provenance": [],
      "collapsed_sections": [],
      "include_colab_link": true
    },
    "kernelspec": {
      "name": "python3",
      "display_name": "Python 3"
    }
  },
  "cells": [
    {
      "cell_type": "markdown",
      "metadata": {
        "id": "view-in-github",
        "colab_type": "text"
      },
      "source": [
        "<a href=\"https://colab.research.google.com/github/Gaurav37/A_star/blob/master/A_star_python.ipynb\" target=\"_parent\"><img src=\"https://colab.research.google.com/assets/colab-badge.svg\" alt=\"Open In Colab\"/></a>"
      ]
    },
    {
      "cell_type": "code",
      "metadata": {
        "id": "LYB9wgWD4yq5",
        "colab_type": "code",
        "colab": {
          "base_uri": "https://localhost:8080/",
          "height": 50
        },
        "outputId": "4609f561-a311-4839-bea9-72041f62555c"
      },
      "source": [
        "import math\n",
        "def heuristics(node1,goal_node):\n",
        "  node1=node1\n",
        "  node2=goal_node\n",
        "  # Let heuristic distance weight be dependent on the euler's distance\n",
        "  squared_displacement_value=(node1[0]-node2[0])**2 +(node1[1]-node2[1])**2\n",
        "  print(\"squared_displacement_value\",squared_displacement_value)\n",
        "  heuristic_ = math.sqrt(squared_displacement_value)\n",
        "  return heuristic_\n",
        "\n",
        "node1=[0,0]\n",
        "goal_node=[6,7]\n",
        "heu=heuristics(node1,goal_node)\n",
        "print(heu)"
      ],
      "execution_count": 1,
      "outputs": [
        {
          "output_type": "stream",
          "text": [
            "squared_displacement_value 85\n",
            "9.219544457292887\n"
          ],
          "name": "stdout"
        }
      ]
    },
    {
      "cell_type": "code",
      "metadata": {
        "id": "Fgg4jCgp-C1G",
        "colab_type": "code",
        "colab": {
          "base_uri": "https://localhost:8080/",
          "height": 84
        },
        "outputId": "af1705ed-401f-43fa-890e-66c85e5f622a"
      },
      "source": [
        "pip install pathfinding\n"
      ],
      "execution_count": 3,
      "outputs": [
        {
          "output_type": "stream",
          "text": [
            "Collecting pathfinding\n",
            "  Downloading https://files.pythonhosted.org/packages/5c/a0/8678ab2eb9c7e0eee1a7d3d47e136872f6ea0fc293838a2971ff5c7ecbf7/pathfinding-0.0.4-py3-none-any.whl\n",
            "Installing collected packages: pathfinding\n",
            "Successfully installed pathfinding-0.0.4\n"
          ],
          "name": "stdout"
        }
      ]
    },
    {
      "cell_type": "code",
      "metadata": {
        "id": "lAoi5N47VBPF",
        "colab_type": "code",
        "colab": {}
      },
      "source": [
        "pip install lib"
      ],
      "execution_count": 0,
      "outputs": []
    },
    {
      "cell_type": "code",
      "metadata": {
        "id": "mgAizUFe5zut",
        "colab_type": "code",
        "colab": {}
      },
      "source": [
        "\n",
        "from pathfinding.core.grid import Grid\n",
        "\n",
        "# MAP input/creation\n",
        "map=[[1,1,1,1,1,1,1,1,1,1],\n",
        "     [1,1,1,1,1,1,1,1,1,1],\n",
        "     [1,1,1,1,1,1,1,1,1,1],\n",
        "     [1,1,1,1,1,1,1,1,1,1],\n",
        "     [1,1,0,0,0,0,0,0,0,1],\n",
        "     [1,1,1,1,1,1,1,1,1,1],\n",
        "     [1,1,1,1,1,1,1,1,1,1],\n",
        "     [1,1,1,1,1,1,1,1,1,1],\n",
        "     [1,1,1,1,1,1,1,1,1,1],\n",
        "     [1,1,1,1,1,1,1,1,1,1]]\n",
        "\n",
        "grid=Grid(matrix=map)\n",
        "\n",
        "def obstacle(map):\n",
        "  obstacle_nodes=[]\n",
        "  safe_nodes=[]\n",
        "  print(\"i was here\")\n",
        "  for i in range(len(map)):\n",
        "    for j in range(len(map[i])):\n",
        "      temp1=i\n",
        "      temp2=j\n",
        "      if map[temp1][temp2]==0:\n",
        "        obstacle_nodes.append([temp1,temp2])\n",
        "      else:\n",
        "        safe_nodes.append([temp1,temp2])\n",
        "  return safe_nodes,obstacle_nodes\n",
        "  #print(\"obstacle_nodes\", obstacle_nodes)\n",
        "  #print(\"safe_nodes\",safe_nodes)"
      ],
      "execution_count": 0,
      "outputs": []
    },
    {
      "cell_type": "code",
      "metadata": {
        "id": "bGoxn_Aw_2fJ",
        "colab_type": "code",
        "colab": {
          "base_uri": "https://localhost:8080/",
          "height": 134
        },
        "outputId": "ab440317-e302-453f-b5e7-f7d3c74ffae5"
      },
      "source": [
        "#FIND NEIGHBORS##################\n",
        "safe_nodes, obstacle_nodes=obstacle(map)\n",
        "def safe_neighbor_nodes(safe_nodes,node):\n",
        "  safe_nodes=safe_nodes\n",
        "  node=node\n",
        "  direction=[[1,0],[0,1],[-1,0],[0,-1]]\n",
        "  result=[]\n",
        "  for dir in direction:\n",
        "    print(\"d is\",dir)\n",
        "    neighbor=[node[0]+dir[0],node[1]+dir[1]]\n",
        "    if neighbor in safe_nodes:\n",
        "      result.append(neighbor)\n",
        "  print(result) \n",
        "  return result\n",
        "node=[0,0]     \n",
        "safe_neighbor_nodes(safe_nodes, node)"
      ],
      "execution_count": 5,
      "outputs": [
        {
          "output_type": "stream",
          "text": [
            "i was here\n",
            "d is [1, 0]\n",
            "d is [0, 1]\n",
            "d is [-1, 0]\n",
            "d is [0, -1]\n",
            "[[1, 0], [0, 1]]\n"
          ],
          "name": "stdout"
        },
        {
          "output_type": "execute_result",
          "data": {
            "text/plain": [
              "[[1, 0], [0, 1]]"
            ]
          },
          "metadata": {
            "tags": []
          },
          "execution_count": 5
        }
      ]
    },
    {
      "cell_type": "code",
      "metadata": {
        "id": "aaN_fP9ZbzAE",
        "colab_type": "code",
        "colab": {}
      },
      "source": [
        "del came_from_list[10:len(came_from_list)]"
      ],
      "execution_count": 0,
      "outputs": []
    },
    {
      "cell_type": "code",
      "metadata": {
        "id": "i2gycGLaLCqk",
        "colab_type": "code",
        "colab": {}
      },
      "source": [
        "from lib import lib as lib_inst\n",
        "\n",
        "\n",
        "goal_node=[6,7]\n",
        "start_node=[0,0]\n",
        "#total_distance = \n",
        "heuristic_distance_from_present_node=0\n",
        "\n",
        "safe_nodes,obstacle_nodes = obstacle(map)\n",
        "current_node = start_node\n",
        "open_set=[[[start_node],0]]#total_distance after comma\n",
        "closed_set=[]#total_distance after comma\n",
        "\n",
        "heuristic_dist_list=[]\n",
        "total_distance=0\n",
        "came_from_list=[]\n",
        "\n",
        "\n",
        "\n",
        "while(open_set is not []):\n",
        "  #next_node,path_distance_from_start_node,came_from_list=traverse_next_node(current_node,path_distance_from_start_node,goal_node)\n",
        "  #must have already added neighbors to open set and now we remove next node from open set \n",
        "  safe_neighbor = safe_neighbor_nodes(safe_nodes,current_node) #for current node calculate safe neighbor nodes\n",
        "  if current_node==goal_node:\n",
        "    path_of_a_star=reconstruct(current_node)\n",
        "    print(\"Path FOUND!!!\",path_of_a_star)\n",
        "    break\n",
        "\n",
        "  for next_node in safe_neighbor:  \n",
        "    \n",
        "    if next_node==goal_node:\n",
        "        came_from_list.append([next_node,current_node])\n",
        "        reconstruct(goal_node)\n",
        "                \n",
        "    heuristic_distance=heuristics(next_node,goal_node)\n",
        "    total_dist_prev=total_distance\n",
        "    \n",
        "    for i in range(len(closed_set)):\n",
        "      print(\"closed_set\",closed_set)\n",
        "      print(\"closed_set\",closed_set[i][0])\n",
        "      if (closed_set[i][0] == next_node and closed_set[i][1]>total_distance) or (open_set[i][0] == next_node and open_set[i][1]>total_distance):\n",
        "        total_distance = 1 + total_distance + heuristic_distance\n",
        "        open_set[i][1]=total_distance\n",
        "\n",
        "      elif next_node not in closed_set[i][0] and next_node not in open_set[i][0] : \n",
        "        total_distance = 1 + total_distance + heuristic_distance\n",
        "        open_set.append([[next_node],total_distance])\n",
        "\n",
        "        came_from_list.append([next_node,current_node])\n",
        "   \n",
        "  closed_set.append([[current_node],total_distance])\n",
        "  for k in range(len(open_set)):\n",
        "    print(k)\n",
        "    print(open_set[k])\n",
        "    if open_set[k][0]==current_node and open_set[k][1]==total_dist_prev:\n",
        "      open_set.remove([[current_node],total_dist_prev])\n",
        "  current_node = next_node\n",
        "\n",
        "\n",
        "\n"
      ],
      "execution_count": 0,
      "outputs": []
    },
    {
      "cell_type": "code",
      "metadata": {
        "id": "EuLJ7Il0hwS3",
        "colab_type": "code",
        "colab": {}
      },
      "source": [
        ""
      ],
      "execution_count": 0,
      "outputs": []
    },
    {
      "cell_type": "code",
      "metadata": {
        "id": "T23HiHVK9rxb",
        "colab_type": "code",
        "colab": {}
      },
      "source": [
        "def reconstruct(child_node,came_from_list):\n",
        "  child_node=child_node\n",
        "  path=[]\n",
        "  came_from_list=came_from_list\n",
        "  for n in range(len(came_from_list)) :\n",
        "    if child_node==came_from_list[n][0]:\n",
        "      path.append(came_from_list[n][0])\n",
        "      path.append(came_from_list[n][1])\n",
        "      child_node=came_from_list[n][1]\n",
        "    if child_node==start_node:\n",
        "      break\n",
        "      path=list(reversed(path))\n",
        "      return path\n",
        "  reconstruct(child_node,came_from_list)\n",
        "#Path=reconstruct([6,7],came_from_list)"
      ],
      "execution_count": 0,
      "outputs": []
    },
    {
      "cell_type": "code",
      "metadata": {
        "id": "ThsQ37ZZMhH6",
        "colab_type": "code",
        "colab": {}
      },
      "source": [
        ""
      ],
      "execution_count": 0,
      "outputs": []
    }
  ]
}